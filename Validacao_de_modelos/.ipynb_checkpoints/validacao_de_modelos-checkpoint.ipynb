{
 "cells": [
  {
   "cell_type": "code",
   "execution_count": 4,
   "id": "9ee897ce",
   "metadata": {},
   "outputs": [],
   "source": [
    "import pandas as pd\n",
    "import numpy as np\n",
    "from sklearn.model_selection import train_test_split\n",
    "from sklearn.svm import LinearSVC\n",
    "from sklearn.metrics import accuracy_score\n",
    "from sklearn.tree import DecisionTreeClassifier"
   ]
  },
  {
   "cell_type": "code",
   "execution_count": 5,
   "id": "b7f8e199",
   "metadata": {},
   "outputs": [
    {
     "data": {
      "text/html": [
       "<div>\n",
       "<style scoped>\n",
       "    .dataframe tbody tr th:only-of-type {\n",
       "        vertical-align: middle;\n",
       "    }\n",
       "\n",
       "    .dataframe tbody tr th {\n",
       "        vertical-align: top;\n",
       "    }\n",
       "\n",
       "    .dataframe thead th {\n",
       "        text-align: right;\n",
       "    }\n",
       "</style>\n",
       "<table border=\"1\" class=\"dataframe\">\n",
       "  <thead>\n",
       "    <tr style=\"text-align: right;\">\n",
       "      <th></th>\n",
       "      <th>price</th>\n",
       "      <th>sold</th>\n",
       "      <th>model_year</th>\n",
       "      <th>km_per_year</th>\n",
       "    </tr>\n",
       "  </thead>\n",
       "  <tbody>\n",
       "    <tr>\n",
       "      <th>0</th>\n",
       "      <td>30941.02</td>\n",
       "      <td>1</td>\n",
       "      <td>18</td>\n",
       "      <td>35085.22134</td>\n",
       "    </tr>\n",
       "    <tr>\n",
       "      <th>1</th>\n",
       "      <td>40557.96</td>\n",
       "      <td>1</td>\n",
       "      <td>20</td>\n",
       "      <td>12622.05362</td>\n",
       "    </tr>\n",
       "    <tr>\n",
       "      <th>2</th>\n",
       "      <td>89627.50</td>\n",
       "      <td>0</td>\n",
       "      <td>12</td>\n",
       "      <td>11440.79806</td>\n",
       "    </tr>\n",
       "    <tr>\n",
       "      <th>3</th>\n",
       "      <td>95276.14</td>\n",
       "      <td>0</td>\n",
       "      <td>3</td>\n",
       "      <td>43167.32682</td>\n",
       "    </tr>\n",
       "    <tr>\n",
       "      <th>4</th>\n",
       "      <td>117384.68</td>\n",
       "      <td>1</td>\n",
       "      <td>4</td>\n",
       "      <td>12770.11290</td>\n",
       "    </tr>\n",
       "    <tr>\n",
       "      <th>...</th>\n",
       "      <td>...</td>\n",
       "      <td>...</td>\n",
       "      <td>...</td>\n",
       "      <td>...</td>\n",
       "    </tr>\n",
       "    <tr>\n",
       "      <th>9995</th>\n",
       "      <td>97112.86</td>\n",
       "      <td>0</td>\n",
       "      <td>12</td>\n",
       "      <td>25060.64248</td>\n",
       "    </tr>\n",
       "    <tr>\n",
       "      <th>9996</th>\n",
       "      <td>107424.63</td>\n",
       "      <td>1</td>\n",
       "      <td>16</td>\n",
       "      <td>21317.31764</td>\n",
       "    </tr>\n",
       "    <tr>\n",
       "      <th>9997</th>\n",
       "      <td>93856.99</td>\n",
       "      <td>0</td>\n",
       "      <td>4</td>\n",
       "      <td>20950.38812</td>\n",
       "    </tr>\n",
       "    <tr>\n",
       "      <th>9998</th>\n",
       "      <td>51250.57</td>\n",
       "      <td>1</td>\n",
       "      <td>7</td>\n",
       "      <td>16840.13376</td>\n",
       "    </tr>\n",
       "    <tr>\n",
       "      <th>9999</th>\n",
       "      <td>87945.73</td>\n",
       "      <td>0</td>\n",
       "      <td>19</td>\n",
       "      <td>19894.66108</td>\n",
       "    </tr>\n",
       "  </tbody>\n",
       "</table>\n",
       "<p>10000 rows × 4 columns</p>\n",
       "</div>"
      ],
      "text/plain": [
       "          price  sold  model_year  km_per_year\n",
       "0      30941.02     1          18  35085.22134\n",
       "1      40557.96     1          20  12622.05362\n",
       "2      89627.50     0          12  11440.79806\n",
       "3      95276.14     0           3  43167.32682\n",
       "4     117384.68     1           4  12770.11290\n",
       "...         ...   ...         ...          ...\n",
       "9995   97112.86     0          12  25060.64248\n",
       "9996  107424.63     1          16  21317.31764\n",
       "9997   93856.99     0           4  20950.38812\n",
       "9998   51250.57     1           7  16840.13376\n",
       "9999   87945.73     0          19  19894.66108\n",
       "\n",
       "[10000 rows x 4 columns]"
      ]
     },
     "execution_count": 5,
     "metadata": {},
     "output_type": "execute_result"
    }
   ],
   "source": [
    "uri = \"https://gist.githubusercontent.com/guilhermesilveira/e99a526b2e7ccc6c3b70f53db43a87d2/raw/1605fc74aa778066bf2e6695e24d53cf65f2f447/machine-learning-carros-simulacao.csv\"\n",
    "\n",
    "data = pd.read_csv(uri).drop(columns=[\"Unnamed: 0\"], axis=1)\n",
    "\n",
    "data.rename(columns={\"preco\": \"price\", \"vendido\":\"sold\", \"idade_do_modelo\": \"model_year\", \"km_por_ano\": \"km_per_year\"}, inplace=True)\n",
    "\n",
    "data"
   ]
  },
  {
   "cell_type": "code",
   "execution_count": 6,
   "id": "1665bd6a",
   "metadata": {},
   "outputs": [],
   "source": [
    "y= data[\"sold\"]\n",
    "x= data[[\"price\",\"model_year\",\"km_per_year\"]]"
   ]
  },
  {
   "cell_type": "code",
   "execution_count": 7,
   "id": "6ef61fe3",
   "metadata": {},
   "outputs": [
    {
     "name": "stdout",
     "output_type": "stream",
     "text": [
      "We'll train with 7500 elements and test with 2500 elements\n",
      "The accurary is 71.92%\n"
     ]
    }
   ],
   "source": [
    "SEED = 158020\n",
    "np.random.seed(SEED)\n",
    "train_x, test_x, train_y, test_y = train_test_split(x,y,test_size=0.25, stratify=y)\n",
    "\n",
    "model = DecisionTreeClassifier(max_depth=2)\n",
    "model.fit(train_x, train_y)\n",
    "y_hat = model.predict(test_x)\n",
    "\n",
    "accuracy = accuracy_score(test_y, y_hat) * 100\n",
    "\n",
    "print(\"We'll train with %d elements and test with %d elements\" % (len(train_x), len(test_x)))\n",
    "print(\"The accurary is %.2f%%\" % accuracy)"
   ]
  },
  {
   "cell_type": "code",
   "execution_count": 8,
   "id": "dfde111a",
   "metadata": {},
   "outputs": [
    {
     "name": "stdout",
     "output_type": "stream",
     "text": [
      "We'll train with 7500 elements and test with 2500 elements\n",
      "The accurary is 76.84%\n"
     ]
    }
   ],
   "source": [
    "SEED = 5\n",
    "np.random.seed(SEED)\n",
    "train_x, test_x, train_y, test_y = train_test_split(x,y,test_size=0.25, stratify=y)\n",
    "\n",
    "model = DecisionTreeClassifier(max_depth=2)\n",
    "model.fit(train_x, train_y)\n",
    "y_hat = model.predict(test_x)\n",
    "\n",
    "accuracy = accuracy_score(test_y, y_hat) * 100\n",
    "\n",
    "print(\"We'll train with %d elements and test with %d elements\" % (len(train_x), len(test_x)))\n",
    "print(\"The accurary is %.2f%%\" % accuracy)"
   ]
  },
  {
   "cell_type": "markdown",
   "id": "f929522e",
   "metadata": {},
   "source": [
    "# Cross Validation\n",
    "\n",
    "It's a method which you split your data in many parts (hold-out) and then you train and test with differents parts, multiple times, getting differents accuracys. Than you can use the median and the standard deviation between these values to get an accuracy interval."
   ]
  },
  {
   "cell_type": "code",
   "execution_count": 9,
   "id": "44761022",
   "metadata": {},
   "outputs": [],
   "source": [
    "from sklearn.model_selection import cross_validate"
   ]
  },
  {
   "cell_type": "code",
   "execution_count": 16,
   "id": "e0f17812",
   "metadata": {},
   "outputs": [
    {
     "name": "stdout",
     "output_type": "stream",
     "text": [
      "Accuracy interval: 74.99 - 76.57\n"
     ]
    }
   ],
   "source": [
    "SEED = 158020\n",
    "model = DecisionTreeClassifier(max_depth=2)\n",
    "results = cross_validate(model, x, y, cv=3)\n",
    "mean = results['test_score'].mean()\n",
    "std = results['test_score'].std()\n",
    "print(\"Accuracy interval: %.2f - %.2f\" % ((mean - 2*std)*100, (mean + 2*std)*100))"
   ]
  },
  {
   "cell_type": "code",
   "execution_count": 17,
   "id": "667a36c2",
   "metadata": {},
   "outputs": [
    {
     "name": "stdout",
     "output_type": "stream",
     "text": [
      "Accuracy interval: 74.99 - 76.57\n"
     ]
    }
   ],
   "source": [
    "SEED = 5\n",
    "model = DecisionTreeClassifier(max_depth=2)\n",
    "results = cross_validate(model, x, y, cv=3)\n",
    "mean = results['test_score'].mean()\n",
    "std = results['test_score'].std()\n",
    "print(\"Accuracy interval: %.2f - %.2f\" % ((mean - 2*std)*100, (mean + 2*std)*100))"
   ]
  },
  {
   "cell_type": "code",
   "execution_count": 19,
   "id": "959f4d2e",
   "metadata": {},
   "outputs": [
    {
     "name": "stdout",
     "output_type": "stream",
     "text": [
      "Accuracy interval (cv=3): 74.99 - 76.57\n"
     ]
    }
   ],
   "source": [
    "SEED = 103847\n",
    "model = DecisionTreeClassifier(max_depth=2)\n",
    "results = cross_validate(model, x, y, cv=3)\n",
    "mean = results['test_score'].mean()\n",
    "std = results['test_score'].std()\n",
    "print(\"Accuracy interval (cv=3): %.2f - %.2f\" % ((mean - 2*std)*100, (mean + 2*std)*100))"
   ]
  },
  {
   "cell_type": "markdown",
   "id": "80c74932",
   "metadata": {},
   "source": [
    "With this method, we obtain the same result regardless of the seed, but the result will vary depending on the number of splis (cv):"
   ]
  },
  {
   "cell_type": "code",
   "execution_count": 20,
   "id": "de736115",
   "metadata": {},
   "outputs": [
    {
     "name": "stdout",
     "output_type": "stream",
     "text": [
      "Accuracy interval (cv=10): 74.24 - 77.32\n"
     ]
    }
   ],
   "source": [
    "SEED = 103847\n",
    "model = DecisionTreeClassifier(max_depth=2)\n",
    "results = cross_validate(model, x, y, cv=10)\n",
    "mean = results['test_score'].mean()\n",
    "std = results['test_score'].std()\n",
    "print(\"Accuracy interval (cv=10): %.2f - %.2f\" % ((mean - 2*std)*100, (mean + 2*std)*100))"
   ]
  },
  {
   "cell_type": "code",
   "execution_count": 21,
   "id": "a10e1164",
   "metadata": {},
   "outputs": [
    {
     "name": "stdout",
     "output_type": "stream",
     "text": [
      "Accuracy interval (cv=5): 75.21 - 76.35\n"
     ]
    }
   ],
   "source": [
    "SEED = 103847\n",
    "model = DecisionTreeClassifier(max_depth=2)\n",
    "results = cross_validate(model, x, y, cv=5)\n",
    "mean = results['test_score'].mean()\n",
    "std = results['test_score'].std()\n",
    "print(\"Accuracy interval (cv=5): %.2f - %.2f\" % ((mean - 2*std)*100, (mean + 2*std)*100))"
   ]
  },
  {
   "cell_type": "markdown",
   "id": "b529071d",
   "metadata": {},
   "source": [
    "There are references that point out it is a good pratice to use cv between 5 and 10. The most common is using 5."
   ]
  },
  {
   "cell_type": "markdown",
   "id": "4a403824",
   "metadata": {},
   "source": [
    "The cross validation doesnt shuffle our data before fold it, so we need to do that using Kfold:"
   ]
  },
  {
   "cell_type": "code",
   "execution_count": 29,
   "id": "fa2d14bf",
   "metadata": {},
   "outputs": [],
   "source": [
    "def print_results(results):\n",
    "    mean = results['test_score'].mean()\n",
    "    std = results['test_score'].std()\n",
    "    print(\"Accuracy mean: %.2f\" % (mean * 100))\n",
    "    print(\"Accuracy interval: %.2f - %.2f\" % ((mean - 2*std)*100, (mean + 2*std)*100))"
   ]
  },
  {
   "cell_type": "code",
   "execution_count": 34,
   "id": "c8241650",
   "metadata": {},
   "outputs": [
    {
     "name": "stdout",
     "output_type": "stream",
     "text": [
      "Accuracy mean: 75.79\n",
      "Accuracy interval: 73.26 - 78.32\n"
     ]
    },
    {
     "ename": "TypeError",
     "evalue": "'KFold' object is not subscriptable",
     "output_type": "error",
     "traceback": [
      "\u001b[1;31m---------------------------------------------------------------------------\u001b[0m",
      "\u001b[1;31mTypeError\u001b[0m                                 Traceback (most recent call last)",
      "Cell \u001b[1;32mIn[34], line 10\u001b[0m\n\u001b[0;32m      8\u001b[0m results \u001b[38;5;241m=\u001b[39m cross_validate(model, x, y, cv\u001b[38;5;241m=\u001b[39mcv)\n\u001b[0;32m      9\u001b[0m print_results(results)\n\u001b[1;32m---> 10\u001b[0m \u001b[38;5;28mprint\u001b[39m(cv[\u001b[38;5;124m'\u001b[39m\u001b[38;5;124mn_splits\u001b[39m\u001b[38;5;124m'\u001b[39m])\n",
      "\u001b[1;31mTypeError\u001b[0m: 'KFold' object is not subscriptable"
     ]
    }
   ],
   "source": [
    "from sklearn.model_selection import KFold\n",
    "\n",
    "SEED = 103847\n",
    "np.random.seed(SEED)\n",
    "\n",
    "cv = KFold(n_splits=10, shuffle=True)\n",
    "model = DecisionTreeClassifier(max_depth=2)\n",
    "results = cross_validate(model, x, y, cv=cv)\n",
    "print_results(results)"
   ]
  },
  {
   "cell_type": "code",
   "execution_count": null,
   "id": "6602c60e",
   "metadata": {},
   "outputs": [],
   "source": []
  }
 ],
 "metadata": {
  "kernelspec": {
   "display_name": "Python 3 (ipykernel)",
   "language": "python",
   "name": "python3"
  },
  "language_info": {
   "codemirror_mode": {
    "name": "ipython",
    "version": 3
   },
   "file_extension": ".py",
   "mimetype": "text/x-python",
   "name": "python",
   "nbconvert_exporter": "python",
   "pygments_lexer": "ipython3",
   "version": "3.11.4"
  }
 },
 "nbformat": 4,
 "nbformat_minor": 5
}
