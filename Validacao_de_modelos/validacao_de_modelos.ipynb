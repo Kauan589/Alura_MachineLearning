{
 "cells": [
  {
   "cell_type": "code",
   "execution_count": 27,
   "id": "9ee897ce",
   "metadata": {},
   "outputs": [],
   "source": [
    "import pandas as pd\n",
    "import numpy as np\n",
    "from sklearn.model_selection import train_test_split\n",
    "from sklearn.svm import LinearSVC\n",
    "from sklearn.metrics import accuracy_score\n",
    "from sklearn.tree import DecisionTreeClassifier"
   ]
  },
  {
   "cell_type": "code",
   "execution_count": 28,
   "id": "b7f8e199",
   "metadata": {},
   "outputs": [
    {
     "data": {
      "text/html": [
       "<div>\n",
       "<style scoped>\n",
       "    .dataframe tbody tr th:only-of-type {\n",
       "        vertical-align: middle;\n",
       "    }\n",
       "\n",
       "    .dataframe tbody tr th {\n",
       "        vertical-align: top;\n",
       "    }\n",
       "\n",
       "    .dataframe thead th {\n",
       "        text-align: right;\n",
       "    }\n",
       "</style>\n",
       "<table border=\"1\" class=\"dataframe\">\n",
       "  <thead>\n",
       "    <tr style=\"text-align: right;\">\n",
       "      <th></th>\n",
       "      <th>price</th>\n",
       "      <th>sold</th>\n",
       "      <th>model_year</th>\n",
       "      <th>km_per_year</th>\n",
       "    </tr>\n",
       "  </thead>\n",
       "  <tbody>\n",
       "    <tr>\n",
       "      <th>0</th>\n",
       "      <td>30941.02</td>\n",
       "      <td>1</td>\n",
       "      <td>18</td>\n",
       "      <td>35085.22134</td>\n",
       "    </tr>\n",
       "    <tr>\n",
       "      <th>1</th>\n",
       "      <td>40557.96</td>\n",
       "      <td>1</td>\n",
       "      <td>20</td>\n",
       "      <td>12622.05362</td>\n",
       "    </tr>\n",
       "    <tr>\n",
       "      <th>2</th>\n",
       "      <td>89627.50</td>\n",
       "      <td>0</td>\n",
       "      <td>12</td>\n",
       "      <td>11440.79806</td>\n",
       "    </tr>\n",
       "    <tr>\n",
       "      <th>3</th>\n",
       "      <td>95276.14</td>\n",
       "      <td>0</td>\n",
       "      <td>3</td>\n",
       "      <td>43167.32682</td>\n",
       "    </tr>\n",
       "    <tr>\n",
       "      <th>4</th>\n",
       "      <td>117384.68</td>\n",
       "      <td>1</td>\n",
       "      <td>4</td>\n",
       "      <td>12770.11290</td>\n",
       "    </tr>\n",
       "    <tr>\n",
       "      <th>...</th>\n",
       "      <td>...</td>\n",
       "      <td>...</td>\n",
       "      <td>...</td>\n",
       "      <td>...</td>\n",
       "    </tr>\n",
       "    <tr>\n",
       "      <th>9995</th>\n",
       "      <td>97112.86</td>\n",
       "      <td>0</td>\n",
       "      <td>12</td>\n",
       "      <td>25060.64248</td>\n",
       "    </tr>\n",
       "    <tr>\n",
       "      <th>9996</th>\n",
       "      <td>107424.63</td>\n",
       "      <td>1</td>\n",
       "      <td>16</td>\n",
       "      <td>21317.31764</td>\n",
       "    </tr>\n",
       "    <tr>\n",
       "      <th>9997</th>\n",
       "      <td>93856.99</td>\n",
       "      <td>0</td>\n",
       "      <td>4</td>\n",
       "      <td>20950.38812</td>\n",
       "    </tr>\n",
       "    <tr>\n",
       "      <th>9998</th>\n",
       "      <td>51250.57</td>\n",
       "      <td>1</td>\n",
       "      <td>7</td>\n",
       "      <td>16840.13376</td>\n",
       "    </tr>\n",
       "    <tr>\n",
       "      <th>9999</th>\n",
       "      <td>87945.73</td>\n",
       "      <td>0</td>\n",
       "      <td>19</td>\n",
       "      <td>19894.66108</td>\n",
       "    </tr>\n",
       "  </tbody>\n",
       "</table>\n",
       "<p>10000 rows × 4 columns</p>\n",
       "</div>"
      ],
      "text/plain": [
       "          price  sold  model_year  km_per_year\n",
       "0      30941.02     1          18  35085.22134\n",
       "1      40557.96     1          20  12622.05362\n",
       "2      89627.50     0          12  11440.79806\n",
       "3      95276.14     0           3  43167.32682\n",
       "4     117384.68     1           4  12770.11290\n",
       "...         ...   ...         ...          ...\n",
       "9995   97112.86     0          12  25060.64248\n",
       "9996  107424.63     1          16  21317.31764\n",
       "9997   93856.99     0           4  20950.38812\n",
       "9998   51250.57     1           7  16840.13376\n",
       "9999   87945.73     0          19  19894.66108\n",
       "\n",
       "[10000 rows x 4 columns]"
      ]
     },
     "execution_count": 28,
     "metadata": {},
     "output_type": "execute_result"
    }
   ],
   "source": [
    "uri = \"https://gist.githubusercontent.com/guilhermesilveira/e99a526b2e7ccc6c3b70f53db43a87d2/raw/1605fc74aa778066bf2e6695e24d53cf65f2f447/machine-learning-carros-simulacao.csv\"\n",
    "\n",
    "data = pd.read_csv(uri).drop(columns=[\"Unnamed: 0\"], axis=1)\n",
    "\n",
    "data.rename(columns={\"preco\": \"price\", \"vendido\":\"sold\", \"idade_do_modelo\": \"model_year\", \"km_por_ano\": \"km_per_year\"}, inplace=True)\n",
    "\n",
    "data"
   ]
  },
  {
   "cell_type": "code",
   "execution_count": 29,
   "id": "1665bd6a",
   "metadata": {},
   "outputs": [],
   "source": [
    "y= data[\"sold\"]\n",
    "x= data[[\"price\",\"model_year\",\"km_per_year\"]]"
   ]
  },
  {
   "cell_type": "code",
   "execution_count": 30,
   "id": "6ef61fe3",
   "metadata": {},
   "outputs": [
    {
     "name": "stdout",
     "output_type": "stream",
     "text": [
      "We'll train with 7500 elements and test with 2500 elements\n",
      "The accurary is 71.92%\n"
     ]
    }
   ],
   "source": [
    "SEED = 158020\n",
    "np.random.seed(SEED)\n",
    "train_x, test_x, train_y, test_y = train_test_split(x,y,test_size=0.25, stratify=y)\n",
    "\n",
    "model = DecisionTreeClassifier(max_depth=2)\n",
    "model.fit(train_x, train_y)\n",
    "y_hat = model.predict(test_x)\n",
    "\n",
    "accuracy = accuracy_score(test_y, y_hat) * 100\n",
    "\n",
    "print(\"We'll train with %d elements and test with %d elements\" % (len(train_x), len(test_x)))\n",
    "print(\"The accurary is %.2f%%\" % accuracy)"
   ]
  },
  {
   "cell_type": "code",
   "execution_count": 31,
   "id": "dfde111a",
   "metadata": {},
   "outputs": [
    {
     "name": "stdout",
     "output_type": "stream",
     "text": [
      "We'll train with 7500 elements and test with 2500 elements\n",
      "The accurary is 76.84%\n"
     ]
    }
   ],
   "source": [
    "SEED = 5\n",
    "np.random.seed(SEED)\n",
    "train_x, test_x, train_y, test_y = train_test_split(x,y,test_size=0.25, stratify=y)\n",
    "\n",
    "model = DecisionTreeClassifier(max_depth=2)\n",
    "model.fit(train_x, train_y)\n",
    "y_hat = model.predict(test_x)\n",
    "\n",
    "accuracy = accuracy_score(test_y, y_hat) * 100\n",
    "\n",
    "print(\"We'll train with %d elements and test with %d elements\" % (len(train_x), len(test_x)))\n",
    "print(\"The accurary is %.2f%%\" % accuracy)"
   ]
  },
  {
   "cell_type": "markdown",
   "id": "a44773c0",
   "metadata": {},
   "source": [
    "# Cross Validation\n",
    "\n",
    "It's a method which you split your data in many parts (hold-out) and then you train and test with differents parts, multiple times, getting differents accuracys. Than you can use the median and the standard deviation between these values to get an accuracy interval."
   ]
  },
  {
   "cell_type": "code",
   "execution_count": 32,
   "id": "632ff140",
   "metadata": {},
   "outputs": [],
   "source": [
    "from sklearn.model_selection import cross_validate"
   ]
  },
  {
   "cell_type": "code",
   "execution_count": 33,
   "id": "f1c2331d",
   "metadata": {},
   "outputs": [
    {
     "name": "stdout",
     "output_type": "stream",
     "text": [
      "Accuracy interval: 74.99 - 76.57\n"
     ]
    }
   ],
   "source": [
    "SEED = 158020\n",
    "model = DecisionTreeClassifier(max_depth=2)\n",
    "results = cross_validate(model, x, y, cv=3)\n",
    "mean = results['test_score'].mean()\n",
    "std = results['test_score'].std()\n",
    "print(\"Accuracy interval: %.2f - %.2f\" % ((mean - 2*std)*100, (mean + 2*std)*100))"
   ]
  },
  {
   "cell_type": "code",
   "execution_count": 34,
   "id": "0278f035",
   "metadata": {},
   "outputs": [
    {
     "name": "stdout",
     "output_type": "stream",
     "text": [
      "Accuracy interval: 74.99 - 76.57\n"
     ]
    }
   ],
   "source": [
    "SEED = 5\n",
    "model = DecisionTreeClassifier(max_depth=2)\n",
    "results = cross_validate(model, x, y, cv=3)\n",
    "mean = results['test_score'].mean()\n",
    "std = results['test_score'].std()\n",
    "print(\"Accuracy interval: %.2f - %.2f\" % ((mean - 2*std)*100, (mean + 2*std)*100))"
   ]
  },
  {
   "cell_type": "code",
   "execution_count": 35,
   "id": "8d8dafa5",
   "metadata": {},
   "outputs": [
    {
     "name": "stdout",
     "output_type": "stream",
     "text": [
      "Accuracy interval (cv=3): 74.99 - 76.57\n"
     ]
    }
   ],
   "source": [
    "SEED = 103847\n",
    "model = DecisionTreeClassifier(max_depth=2)\n",
    "results = cross_validate(model, x, y, cv=3)\n",
    "mean = results['test_score'].mean()\n",
    "std = results['test_score'].std()\n",
    "print(\"Accuracy interval (cv=3): %.2f - %.2f\" % ((mean - 2*std)*100, (mean + 2*std)*100))"
   ]
  },
  {
   "cell_type": "markdown",
   "id": "486e2539",
   "metadata": {},
   "source": [
    "With this method, we obtain the same result regardless of the seed, but the result will vary depending on the number of splis (cv):"
   ]
  },
  {
   "cell_type": "code",
   "execution_count": 36,
   "id": "da918ce3",
   "metadata": {},
   "outputs": [
    {
     "name": "stdout",
     "output_type": "stream",
     "text": [
      "Accuracy interval (cv=10): 74.24 - 77.32\n"
     ]
    }
   ],
   "source": [
    "SEED = 103847\n",
    "model = DecisionTreeClassifier(max_depth=2)\n",
    "results = cross_validate(model, x, y, cv=10)\n",
    "mean = results['test_score'].mean()\n",
    "std = results['test_score'].std()\n",
    "print(\"Accuracy interval (cv=10): %.2f - %.2f\" % ((mean - 2*std)*100, (mean + 2*std)*100))"
   ]
  },
  {
   "cell_type": "code",
   "execution_count": 37,
   "id": "8fe9e733",
   "metadata": {},
   "outputs": [
    {
     "name": "stdout",
     "output_type": "stream",
     "text": [
      "Accuracy interval (cv=5): 75.21 - 76.35\n"
     ]
    }
   ],
   "source": [
    "SEED = 103847\n",
    "model = DecisionTreeClassifier(max_depth=2)\n",
    "results = cross_validate(model, x, y, cv=5)\n",
    "mean = results['test_score'].mean()\n",
    "std = results['test_score'].std()\n",
    "print(\"Accuracy interval (cv=5): %.2f - %.2f\" % ((mean - 2*std)*100, (mean + 2*std)*100))"
   ]
  },
  {
   "cell_type": "markdown",
   "id": "c2346284",
   "metadata": {},
   "source": [
    "There are references that point out it is a good pratice to use cv between 5 and 10. The most common is using 5."
   ]
  },
  {
   "cell_type": "markdown",
   "id": "9983bc78",
   "metadata": {},
   "source": [
    "The cross validation doesnt shuffle our data before fold it, so we need to do that using Kfold:"
   ]
  },
  {
   "cell_type": "code",
   "execution_count": 38,
   "id": "b8062505",
   "metadata": {},
   "outputs": [],
   "source": [
    "def print_results(results):\n",
    "    mean = results['test_score'].mean()\n",
    "    std = results['test_score'].std()\n",
    "    print(\"Accuracy mean: %.2f\" % (mean * 100))\n",
    "    print(\"Accuracy interval: %.2f - %.2f\" % ((mean - 2*std)*100, (mean + 2*std)*100))"
   ]
  },
  {
   "cell_type": "code",
   "execution_count": 39,
   "id": "1dfc2a18",
   "metadata": {},
   "outputs": [
    {
     "name": "stdout",
     "output_type": "stream",
     "text": [
      "Accuracy mean: 75.79\n",
      "Accuracy interval: 73.26 - 78.32\n"
     ]
    }
   ],
   "source": [
    "from sklearn.model_selection import KFold\n",
    "\n",
    "SEED = 103847\n",
    "np.random.seed(SEED)\n",
    "\n",
    "cv = KFold(n_splits=10, shuffle=True, random_state=SEED)\n",
    "model = DecisionTreeClassifier(max_depth=2)\n",
    "results = cross_validate(model, x, y, cv=cv)\n",
    "print_results(results)"
   ]
  },
  {
   "cell_type": "markdown",
   "id": "d3ffa51b",
   "metadata": {},
   "source": [
    "When we have a imbalance between classes (like all 0 in one side and all 1 in other), is good to use the Stratified KFold:"
   ]
  },
  {
   "cell_type": "code",
   "execution_count": 40,
   "id": "14fecfbe",
   "metadata": {},
   "outputs": [
    {
     "name": "stdout",
     "output_type": "stream",
     "text": [
      "Accuracy mean: 75.78\n",
      "Accuracy interval: 73.09 - 78.47\n"
     ]
    }
   ],
   "source": [
    "from sklearn.model_selection import StratifiedKFold\n",
    "\n",
    "SEED = 103847\n",
    "np.random.seed(SEED)\n",
    "\n",
    "cv = StratifiedKFold(n_splits=10, shuffle=True, random_state=SEED)\n",
    "model = DecisionTreeClassifier(max_depth=2)\n",
    "results = cross_validate(model, x, y, cv=cv)\n",
    "print_results(results)"
   ]
  },
  {
   "cell_type": "markdown",
   "id": "1dd4a7a9",
   "metadata": {},
   "source": [
    "# Creating a random model column:"
   ]
  },
  {
   "cell_type": "code",
   "execution_count": 41,
   "id": "19ad96c8",
   "metadata": {},
   "outputs": [
    {
     "data": {
      "text/html": [
       "<div>\n",
       "<style scoped>\n",
       "    .dataframe tbody tr th:only-of-type {\n",
       "        vertical-align: middle;\n",
       "    }\n",
       "\n",
       "    .dataframe tbody tr th {\n",
       "        vertical-align: top;\n",
       "    }\n",
       "\n",
       "    .dataframe thead th {\n",
       "        text-align: right;\n",
       "    }\n",
       "</style>\n",
       "<table border=\"1\" class=\"dataframe\">\n",
       "  <thead>\n",
       "    <tr style=\"text-align: right;\">\n",
       "      <th></th>\n",
       "      <th>price</th>\n",
       "      <th>sold</th>\n",
       "      <th>model_year</th>\n",
       "      <th>km_per_year</th>\n",
       "      <th>model</th>\n",
       "    </tr>\n",
       "  </thead>\n",
       "  <tbody>\n",
       "    <tr>\n",
       "      <th>0</th>\n",
       "      <td>30941.02</td>\n",
       "      <td>1</td>\n",
       "      <td>18</td>\n",
       "      <td>35085.22134</td>\n",
       "      <td>20</td>\n",
       "    </tr>\n",
       "    <tr>\n",
       "      <th>1</th>\n",
       "      <td>40557.96</td>\n",
       "      <td>1</td>\n",
       "      <td>20</td>\n",
       "      <td>12622.05362</td>\n",
       "      <td>18</td>\n",
       "    </tr>\n",
       "    <tr>\n",
       "      <th>2</th>\n",
       "      <td>89627.50</td>\n",
       "      <td>0</td>\n",
       "      <td>12</td>\n",
       "      <td>11440.79806</td>\n",
       "      <td>11</td>\n",
       "    </tr>\n",
       "    <tr>\n",
       "      <th>3</th>\n",
       "      <td>95276.14</td>\n",
       "      <td>0</td>\n",
       "      <td>3</td>\n",
       "      <td>43167.32682</td>\n",
       "      <td>5</td>\n",
       "    </tr>\n",
       "    <tr>\n",
       "      <th>4</th>\n",
       "      <td>117384.68</td>\n",
       "      <td>1</td>\n",
       "      <td>4</td>\n",
       "      <td>12770.11290</td>\n",
       "      <td>6</td>\n",
       "    </tr>\n",
       "    <tr>\n",
       "      <th>...</th>\n",
       "      <td>...</td>\n",
       "      <td>...</td>\n",
       "      <td>...</td>\n",
       "      <td>...</td>\n",
       "      <td>...</td>\n",
       "    </tr>\n",
       "    <tr>\n",
       "      <th>9995</th>\n",
       "      <td>97112.86</td>\n",
       "      <td>0</td>\n",
       "      <td>12</td>\n",
       "      <td>25060.64248</td>\n",
       "      <td>12</td>\n",
       "    </tr>\n",
       "    <tr>\n",
       "      <th>9996</th>\n",
       "      <td>107424.63</td>\n",
       "      <td>1</td>\n",
       "      <td>16</td>\n",
       "      <td>21317.31764</td>\n",
       "      <td>18</td>\n",
       "    </tr>\n",
       "    <tr>\n",
       "      <th>9997</th>\n",
       "      <td>93856.99</td>\n",
       "      <td>0</td>\n",
       "      <td>4</td>\n",
       "      <td>20950.38812</td>\n",
       "      <td>4</td>\n",
       "    </tr>\n",
       "    <tr>\n",
       "      <th>9998</th>\n",
       "      <td>51250.57</td>\n",
       "      <td>1</td>\n",
       "      <td>7</td>\n",
       "      <td>16840.13376</td>\n",
       "      <td>9</td>\n",
       "    </tr>\n",
       "    <tr>\n",
       "      <th>9999</th>\n",
       "      <td>87945.73</td>\n",
       "      <td>0</td>\n",
       "      <td>19</td>\n",
       "      <td>19894.66108</td>\n",
       "      <td>20</td>\n",
       "    </tr>\n",
       "  </tbody>\n",
       "</table>\n",
       "<p>10000 rows × 5 columns</p>\n",
       "</div>"
      ],
      "text/plain": [
       "          price  sold  model_year  km_per_year  model\n",
       "0      30941.02     1          18  35085.22134     20\n",
       "1      40557.96     1          20  12622.05362     18\n",
       "2      89627.50     0          12  11440.79806     11\n",
       "3      95276.14     0           3  43167.32682      5\n",
       "4     117384.68     1           4  12770.11290      6\n",
       "...         ...   ...         ...          ...    ...\n",
       "9995   97112.86     0          12  25060.64248     12\n",
       "9996  107424.63     1          16  21317.31764     18\n",
       "9997   93856.99     0           4  20950.38812      4\n",
       "9998   51250.57     1           7  16840.13376      9\n",
       "9999   87945.73     0          19  19894.66108     20\n",
       "\n",
       "[10000 rows x 5 columns]"
      ]
     },
     "execution_count": 41,
     "metadata": {},
     "output_type": "execute_result"
    }
   ],
   "source": [
    "np.random.seed(SEED)\n",
    "data[\"model\"] = data.model_year + np.random.randint(-2,3, size=len(data))\n",
    "data"
   ]
  },
  {
   "cell_type": "code",
   "execution_count": 42,
   "id": "4d181a01",
   "metadata": {},
   "outputs": [
    {
     "data": {
      "text/plain": [
       "array([20, 18, 11,  5,  6,  9, 21, 17,  3, 12, 15,  4, 16, 19, 10, 14, 13,\n",
       "        8,  7, 22,  1,  2,  0, -1], dtype=int64)"
      ]
     },
     "execution_count": 42,
     "metadata": {},
     "output_type": "execute_result"
    }
   ],
   "source": [
    "data.model.unique()"
   ]
  },
  {
   "cell_type": "code",
   "execution_count": 43,
   "id": "7c4c7512",
   "metadata": {},
   "outputs": [
    {
     "data": {
      "text/html": [
       "<div>\n",
       "<style scoped>\n",
       "    .dataframe tbody tr th:only-of-type {\n",
       "        vertical-align: middle;\n",
       "    }\n",
       "\n",
       "    .dataframe tbody tr th {\n",
       "        vertical-align: top;\n",
       "    }\n",
       "\n",
       "    .dataframe thead th {\n",
       "        text-align: right;\n",
       "    }\n",
       "</style>\n",
       "<table border=\"1\" class=\"dataframe\">\n",
       "  <thead>\n",
       "    <tr style=\"text-align: right;\">\n",
       "      <th></th>\n",
       "      <th>price</th>\n",
       "      <th>sold</th>\n",
       "      <th>model_year</th>\n",
       "      <th>km_per_year</th>\n",
       "      <th>model</th>\n",
       "    </tr>\n",
       "  </thead>\n",
       "  <tbody>\n",
       "    <tr>\n",
       "      <th>0</th>\n",
       "      <td>30941.02</td>\n",
       "      <td>1</td>\n",
       "      <td>18</td>\n",
       "      <td>35085.22134</td>\n",
       "      <td>21</td>\n",
       "    </tr>\n",
       "    <tr>\n",
       "      <th>1</th>\n",
       "      <td>40557.96</td>\n",
       "      <td>1</td>\n",
       "      <td>20</td>\n",
       "      <td>12622.05362</td>\n",
       "      <td>19</td>\n",
       "    </tr>\n",
       "    <tr>\n",
       "      <th>2</th>\n",
       "      <td>89627.50</td>\n",
       "      <td>0</td>\n",
       "      <td>12</td>\n",
       "      <td>11440.79806</td>\n",
       "      <td>12</td>\n",
       "    </tr>\n",
       "    <tr>\n",
       "      <th>3</th>\n",
       "      <td>95276.14</td>\n",
       "      <td>0</td>\n",
       "      <td>3</td>\n",
       "      <td>43167.32682</td>\n",
       "      <td>6</td>\n",
       "    </tr>\n",
       "    <tr>\n",
       "      <th>4</th>\n",
       "      <td>117384.68</td>\n",
       "      <td>1</td>\n",
       "      <td>4</td>\n",
       "      <td>12770.11290</td>\n",
       "      <td>7</td>\n",
       "    </tr>\n",
       "    <tr>\n",
       "      <th>...</th>\n",
       "      <td>...</td>\n",
       "      <td>...</td>\n",
       "      <td>...</td>\n",
       "      <td>...</td>\n",
       "      <td>...</td>\n",
       "    </tr>\n",
       "    <tr>\n",
       "      <th>9995</th>\n",
       "      <td>97112.86</td>\n",
       "      <td>0</td>\n",
       "      <td>12</td>\n",
       "      <td>25060.64248</td>\n",
       "      <td>13</td>\n",
       "    </tr>\n",
       "    <tr>\n",
       "      <th>9996</th>\n",
       "      <td>107424.63</td>\n",
       "      <td>1</td>\n",
       "      <td>16</td>\n",
       "      <td>21317.31764</td>\n",
       "      <td>19</td>\n",
       "    </tr>\n",
       "    <tr>\n",
       "      <th>9997</th>\n",
       "      <td>93856.99</td>\n",
       "      <td>0</td>\n",
       "      <td>4</td>\n",
       "      <td>20950.38812</td>\n",
       "      <td>5</td>\n",
       "    </tr>\n",
       "    <tr>\n",
       "      <th>9998</th>\n",
       "      <td>51250.57</td>\n",
       "      <td>1</td>\n",
       "      <td>7</td>\n",
       "      <td>16840.13376</td>\n",
       "      <td>10</td>\n",
       "    </tr>\n",
       "    <tr>\n",
       "      <th>9999</th>\n",
       "      <td>87945.73</td>\n",
       "      <td>0</td>\n",
       "      <td>19</td>\n",
       "      <td>19894.66108</td>\n",
       "      <td>21</td>\n",
       "    </tr>\n",
       "  </tbody>\n",
       "</table>\n",
       "<p>10000 rows × 5 columns</p>\n",
       "</div>"
      ],
      "text/plain": [
       "          price  sold  model_year  km_per_year  model\n",
       "0      30941.02     1          18  35085.22134     21\n",
       "1      40557.96     1          20  12622.05362     19\n",
       "2      89627.50     0          12  11440.79806     12\n",
       "3      95276.14     0           3  43167.32682      6\n",
       "4     117384.68     1           4  12770.11290      7\n",
       "...         ...   ...         ...          ...    ...\n",
       "9995   97112.86     0          12  25060.64248     13\n",
       "9996  107424.63     1          16  21317.31764     19\n",
       "9997   93856.99     0           4  20950.38812      5\n",
       "9998   51250.57     1           7  16840.13376     10\n",
       "9999   87945.73     0          19  19894.66108     21\n",
       "\n",
       "[10000 rows x 5 columns]"
      ]
     },
     "execution_count": 43,
     "metadata": {},
     "output_type": "execute_result"
    }
   ],
   "source": [
    "data.model = data.model + abs(data.model.min())\n",
    "data"
   ]
  },
  {
   "cell_type": "code",
   "execution_count": 44,
   "id": "33794b16",
   "metadata": {},
   "outputs": [
    {
     "data": {
      "text/plain": [
       "array([21, 19, 12,  6,  7, 10, 22, 18,  4, 13, 16,  5, 17, 20, 11, 15, 14,\n",
       "        9,  8, 23,  2,  3,  1,  0], dtype=int64)"
      ]
     },
     "execution_count": 44,
     "metadata": {},
     "output_type": "execute_result"
    }
   ],
   "source": [
    "data.model.unique()"
   ]
  },
  {
   "cell_type": "markdown",
   "id": "db689584",
   "metadata": {},
   "source": [
    "## Cross validation with GroupKfold"
   ]
  },
  {
   "cell_type": "code",
   "execution_count": 46,
   "id": "5afdcd04",
   "metadata": {},
   "outputs": [
    {
     "name": "stdout",
     "output_type": "stream",
     "text": [
      "Accuracy mean: 75.78\n",
      "Accuracy interval: 74.24 - 77.32\n"
     ]
    }
   ],
   "source": [
    "from sklearn.model_selection import GroupKFold\n",
    "\n",
    "SEED = 103847\n",
    "np.random.seed(SEED)\n",
    "\n",
    "cv = StratifiedKFold(n_splits=10)\n",
    "model = DecisionTreeClassifier(max_depth=2)\n",
    "results = cross_validate(model, x, y, cv=cv, return_train_score=False, groups= data.model)\n",
    "print_results(results)"
   ]
  },
  {
   "cell_type": "markdown",
   "id": "056b2801",
   "metadata": {},
   "source": [
    "## Cros validation with StandardScaler"
   ]
  },
  {
   "cell_type": "code",
   "execution_count": 48,
   "id": "81fc4403",
   "metadata": {},
   "outputs": [
    {
     "name": "stdout",
     "output_type": "stream",
     "text": [
      "A acurácia foi de 77.48 %\n"
     ]
    }
   ],
   "source": [
    "from sklearn.preprocessing import StandardScaler\n",
    "from sklearn.svm import SVC\n",
    "\n",
    "SEED = 103847\n",
    "np.random.seed(SEED)\n",
    "\n",
    "scaler = StandardScaler()\n",
    "scaler.fit(train_x)\n",
    "scaled_train_x = scaler.transform(train_x)\n",
    "scaled_test_x = scaler.transform(test_x)\n",
    "\n",
    "model = SVC()\n",
    "model.fit(scaled_train_x, train_y)\n",
    "y_hat = model.predict(scaled_test_x)\n",
    "\n",
    "accuracy = accuracy_score(test_y, y_hat) * 100\n",
    "print(\"A acurácia foi de %.2f %%\" % accuracy)"
   ]
  },
  {
   "cell_type": "code",
   "execution_count": 53,
   "id": "76f2f8bd",
   "metadata": {},
   "outputs": [
    {
     "name": "stdout",
     "output_type": "stream",
     "text": [
      "Accuracy mean: 77.22\n",
      "Accuracy interval: 72.37 - 82.07\n"
     ]
    }
   ],
   "source": [
    "from sklearn.model_selection import GroupKFold\n",
    "\n",
    "SEED = 103847\n",
    "np.random.seed(SEED)\n",
    "\n",
    "cv = GroupKFold(n_splits=10)\n",
    "model = SVC()\n",
    "results = cross_validate(model, x, y, cv=cv, groups=data.model)\n",
    "print_results(results)"
   ]
  },
  {
   "cell_type": "code",
   "execution_count": 54,
   "id": "c0e079f4",
   "metadata": {},
   "outputs": [],
   "source": [
    "scaler = StandardScaler()\n",
    "scaler.fit(x)\n",
    "scaled_x = scaler.transform(x)"
   ]
  },
  {
   "cell_type": "code",
   "execution_count": 55,
   "id": "d3af61ba",
   "metadata": {},
   "outputs": [
    {
     "name": "stdout",
     "output_type": "stream",
     "text": [
      "Accuracy mean: 76.64\n",
      "Accuracy interval: 72.39 - 80.90\n"
     ]
    }
   ],
   "source": [
    "from sklearn.pipeline import Pipeline\n",
    "\n",
    "SEED = 103847\n",
    "np.random.seed(SEED)\n",
    "\n",
    "scaler = StandardScaler()\n",
    "model = SVC()\n",
    "\n",
    "pipeline = Pipeline([('transformation', scaler), ('estimator', model)])\n",
    "\n",
    "cv = GroupKFold(n_splits=10)\n",
    "model = SVC()\n",
    "results = cross_validate(model, scaled_x, y, cv=cv, groups=data.model)\n",
    "print_results(results)"
   ]
  },
  {
   "cell_type": "code",
   "execution_count": null,
   "id": "79f5634b",
   "metadata": {},
   "outputs": [],
   "source": []
  }
 ],
 "metadata": {
  "kernelspec": {
   "display_name": "Python 3 (ipykernel)",
   "language": "python",
   "name": "python3"
  },
  "language_info": {
   "codemirror_mode": {
    "name": "ipython",
    "version": 3
   },
   "file_extension": ".py",
   "mimetype": "text/x-python",
   "name": "python",
   "nbconvert_exporter": "python",
   "pygments_lexer": "ipython3",
   "version": "3.11.4"
  }
 },
 "nbformat": 4,
 "nbformat_minor": 5
}
